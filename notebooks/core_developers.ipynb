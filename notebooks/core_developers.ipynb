{
 "cells": [
  {
   "cell_type": "code",
   "execution_count": 7,
   "metadata": {},
   "outputs": [],
   "source": [
    "import pandas as pd\n",
    "import requests\n",
    "import operator\n",
    "import matplotlib.pyplot as plt\n",
    "%matplotlib inline\n",
    "plt.style.use(\"ggplot\")"
   ]
  },
  {
   "cell_type": "code",
   "execution_count": 40,
   "metadata": {},
   "outputs": [],
   "source": [
    "TOKEN = \"INSERT_YOUR_TOKEN_HERE\"\n",
    "LANGUAGES = [\"java\", \"ruby\", \"php\", \"javascript\", \"ruby\", \"go\"]"
   ]
  },
  {
   "cell_type": "code",
   "execution_count": 38,
   "metadata": {},
   "outputs": [],
   "source": [
    "def graphql(data, variables={}):\n",
    "    results = requests.post(\"https://api.github.com/graphql\",  json={'query': data, 'variables': variables},\n",
    "                      headers={\"Authorization\": \"Bearer %s\" % TOKEN})\n",
    "    return results.json()\n",
    "\n",
    "\n",
    "def fetchTopProjects(language_name):\n",
    "    topProjectsQuery = \"\"\"\n",
    "    query TopProjects($search: String!) {\n",
    "      search(first: 50, query: $search, type: REPOSITORY) {\n",
    "        edges {\n",
    "          node {\n",
    "            ... on Repository {\n",
    "              name\n",
    "              createdAt\n",
    "              description\n",
    "              owner {\n",
    "                login\n",
    "              }\n",
    "              stargazers {\n",
    "                totalCount\n",
    "              }\n",
    "              defaultBranchRef {\n",
    "                name\n",
    "              }\n",
    "            }\n",
    "          }\n",
    "        }\n",
    "      }\n",
    "    }\n",
    "    \"\"\"\n",
    "    \n",
    "    results = graphql(topProjectsQuery, {\"search\": \"language:%s\" % language_name})\n",
    "    projects = results.get(\"data\").get(\"search\").get(\"edges\")\n",
    "    \n",
    "    return [{\n",
    "        \"language\": language_name,\n",
    "        \"name\": project.get(\"node\").get(\"name\"),\n",
    "        \"owner\": project.get(\"node\").get(\"owner\").get(\"login\"),\n",
    "        \"description\": project.get(\"node\").get(\"description\"),\n",
    "        \"createdAt\": project.get(\"node\").get(\"createdAt\"),\n",
    "        \"defaultBranch\": project.get(\"node\").get(\"defaultBranchRef\").get(\"name\"),\n",
    "        \"stars\": project.get(\"node\").get(\"stargazers\").get(\"totalCount\")\n",
    "    } for project in projects]\n",
    "\n",
    "\n",
    "def fetchContributitors(owner, project_name):\n",
    "    results = requests.get(\"https://api.github.com/repos/%s/%s/stats/contributors\" % (owner, project_name),\n",
    "                           headers={\"Authorization\": \"token %s\" % TOKEN})\n",
    "\n",
    "    return [{\n",
    "        \"login\": result.get(\"author\").get(\"login\"),\n",
    "        \"commits\": int(result.get(\"total\"))\n",
    "    } for result in results.json()]"
   ]
  },
  {
   "cell_type": "code",
   "execution_count": 28,
   "metadata": {},
   "outputs": [],
   "source": [
    "projects = pd.DataFrame(columns=[\"language\", \"name\",\"owner\", \"description\", \"createdAt\", \"defaultBranch\", \"stars\"])\n",
    "projects['stars'] = projects['stars'].astype('int')\n",
    "for language in LANGUAGES:\n",
    "    result = pd.DataFrame(fetchTopProjects(language))\n",
    "    projects = pd.concat([projects, result], sort=False)"
   ]
  },
  {
   "cell_type": "code",
   "execution_count": 30,
   "metadata": {},
   "outputs": [
    {
     "name": "stdout",
     "output_type": "stream",
     "text": [
      "<class 'pandas.core.frame.DataFrame'>\n",
      "Int64Index: 300 entries, 0 to 49\n",
      "Data columns (total 7 columns):\n",
      "language         300 non-null object\n",
      "name             300 non-null object\n",
      "owner            300 non-null object\n",
      "description      299 non-null object\n",
      "createdAt        300 non-null object\n",
      "defaultBranch    300 non-null object\n",
      "stars            300 non-null int64\n",
      "dtypes: int64(1), object(6)\n",
      "memory usage: 18.8+ KB\n"
     ]
    }
   ],
   "source": [
    "projects.info()"
   ]
  },
  {
   "cell_type": "markdown",
   "metadata": {},
   "source": [
    "## Averange of stars by language"
   ]
  },
  {
   "cell_type": "code",
   "execution_count": 26,
   "metadata": {},
   "outputs": [
    {
     "data": {
      "text/html": [
       "<div>\n",
       "<style scoped>\n",
       "    .dataframe tbody tr th:only-of-type {\n",
       "        vertical-align: middle;\n",
       "    }\n",
       "\n",
       "    .dataframe tbody tr th {\n",
       "        vertical-align: top;\n",
       "    }\n",
       "\n",
       "    .dataframe thead th {\n",
       "        text-align: right;\n",
       "    }\n",
       "</style>\n",
       "<table border=\"1\" class=\"dataframe\">\n",
       "  <thead>\n",
       "    <tr style=\"text-align: right;\">\n",
       "      <th></th>\n",
       "      <th>stars</th>\n",
       "    </tr>\n",
       "    <tr>\n",
       "      <th>language</th>\n",
       "      <th></th>\n",
       "    </tr>\n",
       "  </thead>\n",
       "  <tbody>\n",
       "    <tr>\n",
       "      <th>go</th>\n",
       "      <td>16697.62</td>\n",
       "    </tr>\n",
       "    <tr>\n",
       "      <th>java</th>\n",
       "      <td>17236.50</td>\n",
       "    </tr>\n",
       "    <tr>\n",
       "      <th>javascript</th>\n",
       "      <td>47395.22</td>\n",
       "    </tr>\n",
       "    <tr>\n",
       "      <th>php</th>\n",
       "      <td>10071.80</td>\n",
       "    </tr>\n",
       "    <tr>\n",
       "      <th>ruby</th>\n",
       "      <td>13038.56</td>\n",
       "    </tr>\n",
       "  </tbody>\n",
       "</table>\n",
       "</div>"
      ],
      "text/plain": [
       "               stars\n",
       "language            \n",
       "go          16697.62\n",
       "java        17236.50\n",
       "javascript  47395.22\n",
       "php         10071.80\n",
       "ruby        13038.56"
      ]
     },
     "execution_count": 26,
     "metadata": {},
     "output_type": "execute_result"
    }
   ],
   "source": [
    "projects[[\"language\", \"stars\"]].groupby([\"language\"]).mean()"
   ]
  },
  {
   "cell_type": "code",
   "execution_count": 22,
   "metadata": {},
   "outputs": [
    {
     "data": {
      "text/plain": [
       "language         object\n",
       "name             object\n",
       "owner            object\n",
       "description      object\n",
       "createdAt        object\n",
       "defaultBranch    object\n",
       "stars            object\n",
       "dtype: object"
      ]
     },
     "execution_count": 22,
     "metadata": {},
     "output_type": "execute_result"
    }
   ],
   "source": [
    "projects.dtypes"
   ]
  },
  {
   "cell_type": "markdown",
   "metadata": {},
   "source": [
    "## Top 10 Projects"
   ]
  },
  {
   "cell_type": "code",
   "execution_count": 79,
   "metadata": {},
   "outputs": [
    {
     "data": {
      "text/html": [
       "<div>\n",
       "<table border=\"1\" class=\"dataframe\">\n",
       "  <thead>\n",
       "    <tr style=\"text-align: right;\">\n",
       "      <th></th>\n",
       "      <th>createdAt</th>\n",
       "      <th>defaultBranch</th>\n",
       "      <th>description</th>\n",
       "      <th>language</th>\n",
       "      <th>name</th>\n",
       "      <th>owner</th>\n",
       "      <th>stars</th>\n",
       "    </tr>\n",
       "  </thead>\n",
       "  <tbody>\n",
       "    <tr>\n",
       "      <th>0</th>\n",
       "      <td>2014-12-24T17:49:19Z</td>\n",
       "      <td>staging</td>\n",
       "      <td>The https://freeCodeCamp.org open source codeb...</td>\n",
       "      <td>javascript</td>\n",
       "      <td>freeCodeCamp</td>\n",
       "      <td>freeCodeCamp</td>\n",
       "      <td>293546.0</td>\n",
       "    </tr>\n",
       "    <tr>\n",
       "      <th>1</th>\n",
       "      <td>2013-07-29T03:24:51Z</td>\n",
       "      <td>dev</td>\n",
       "      <td>🖖 A progressive, incrementally-adoptable JavaS...</td>\n",
       "      <td>javascript</td>\n",
       "      <td>vue</td>\n",
       "      <td>vuejs</td>\n",
       "      <td>111214.0</td>\n",
       "    </tr>\n",
       "    <tr>\n",
       "      <th>2</th>\n",
       "      <td>2013-05-24T16:15:54Z</td>\n",
       "      <td>master</td>\n",
       "      <td>A declarative, efficient, and flexible JavaScr...</td>\n",
       "      <td>javascript</td>\n",
       "      <td>react</td>\n",
       "      <td>facebook</td>\n",
       "      <td>109022.0</td>\n",
       "    </tr>\n",
       "    <tr>\n",
       "      <th>3</th>\n",
       "      <td>2010-09-27T17:22:42Z</td>\n",
       "      <td>master</td>\n",
       "      <td>Bring data to life with SVG, Canvas and HTML. ...</td>\n",
       "      <td>javascript</td>\n",
       "      <td>d3</td>\n",
       "      <td>d3</td>\n",
       "      <td>78096.0</td>\n",
       "    </tr>\n",
       "    <tr>\n",
       "      <th>4</th>\n",
       "      <td>2012-11-01T23:13:50Z</td>\n",
       "      <td>master</td>\n",
       "      <td>JavaScript Style Guide</td>\n",
       "      <td>javascript</td>\n",
       "      <td>javascript</td>\n",
       "      <td>airbnb</td>\n",
       "      <td>74817.0</td>\n",
       "    </tr>\n",
       "    <tr>\n",
       "      <th>5</th>\n",
       "      <td>2015-01-09T18:10:16Z</td>\n",
       "      <td>master</td>\n",
       "      <td>A framework for building native apps with React.</td>\n",
       "      <td>javascript</td>\n",
       "      <td>react-native</td>\n",
       "      <td>facebook</td>\n",
       "      <td>67604.0</td>\n",
       "    </tr>\n",
       "    <tr>\n",
       "      <th>6</th>\n",
       "      <td>2010-01-06T00:34:37Z</td>\n",
       "      <td>master</td>\n",
       "      <td>AngularJS - HTML enhanced for web apps!</td>\n",
       "      <td>javascript</td>\n",
       "      <td>angular.js</td>\n",
       "      <td>angular</td>\n",
       "      <td>58924.0</td>\n",
       "    </tr>\n",
       "    <tr>\n",
       "      <th>7</th>\n",
       "      <td>2012-02-17T14:19:43Z</td>\n",
       "      <td>master</td>\n",
       "      <td>The iconic SVG, font, and CSS toolkit</td>\n",
       "      <td>javascript</td>\n",
       "      <td>Font-Awesome</td>\n",
       "      <td>FortAwesome</td>\n",
       "      <td>57236.0</td>\n",
       "    </tr>\n",
       "    <tr>\n",
       "      <th>8</th>\n",
       "      <td>2016-07-17T14:55:11Z</td>\n",
       "      <td>next</td>\n",
       "      <td>Create React apps with no build configuration.</td>\n",
       "      <td>javascript</td>\n",
       "      <td>create-react-app</td>\n",
       "      <td>facebook</td>\n",
       "      <td>53914.0</td>\n",
       "    </tr>\n",
       "    <tr>\n",
       "      <th>9</th>\n",
       "      <td>2014-11-26T19:57:11Z</td>\n",
       "      <td>master</td>\n",
       "      <td>Node.js JavaScript runtime :sparkles::turtle::...</td>\n",
       "      <td>javascript</td>\n",
       "      <td>node</td>\n",
       "      <td>nodejs</td>\n",
       "      <td>52357.0</td>\n",
       "    </tr>\n",
       "  </tbody>\n",
       "</table>\n",
       "</div>"
      ],
      "text/plain": [
       "              createdAt defaultBranch  \\\n",
       "0  2014-12-24T17:49:19Z       staging   \n",
       "1  2013-07-29T03:24:51Z           dev   \n",
       "2  2013-05-24T16:15:54Z        master   \n",
       "3  2010-09-27T17:22:42Z        master   \n",
       "4  2012-11-01T23:13:50Z        master   \n",
       "5  2015-01-09T18:10:16Z        master   \n",
       "6  2010-01-06T00:34:37Z        master   \n",
       "7  2012-02-17T14:19:43Z        master   \n",
       "8  2016-07-17T14:55:11Z          next   \n",
       "9  2014-11-26T19:57:11Z        master   \n",
       "\n",
       "                                         description    language  \\\n",
       "0  The https://freeCodeCamp.org open source codeb...  javascript   \n",
       "1  🖖 A progressive, incrementally-adoptable JavaS...  javascript   \n",
       "2  A declarative, efficient, and flexible JavaScr...  javascript   \n",
       "3  Bring data to life with SVG, Canvas and HTML. ...  javascript   \n",
       "4                             JavaScript Style Guide  javascript   \n",
       "5   A framework for building native apps with React.  javascript   \n",
       "6            AngularJS - HTML enhanced for web apps!  javascript   \n",
       "7              The iconic SVG, font, and CSS toolkit  javascript   \n",
       "8     Create React apps with no build configuration.  javascript   \n",
       "9  Node.js JavaScript runtime :sparkles::turtle::...  javascript   \n",
       "\n",
       "               name         owner     stars  \n",
       "0      freeCodeCamp  freeCodeCamp  293546.0  \n",
       "1               vue         vuejs  111214.0  \n",
       "2             react      facebook  109022.0  \n",
       "3                d3            d3   78096.0  \n",
       "4        javascript        airbnb   74817.0  \n",
       "5      react-native      facebook   67604.0  \n",
       "6        angular.js       angular   58924.0  \n",
       "7      Font-Awesome   FortAwesome   57236.0  \n",
       "8  create-react-app      facebook   53914.0  \n",
       "9              node        nodejs   52357.0  "
      ]
     },
     "execution_count": 79,
     "metadata": {},
     "output_type": "execute_result"
    }
   ],
   "source": [
    "projects.sort_values(by=['stars'], ascending=False).head(10)"
   ]
  },
  {
   "cell_type": "code",
   "execution_count": 41,
   "metadata": {},
   "outputs": [
    {
     "name": "stdout",
     "output_type": "stream",
     "text": [
      "Total commits in java-design-patterns = 1614 \n",
      "Total commits in RxJava = 3648 \n",
      "Total commits in elasticsearch = 34003 \n",
      "Total commits in retrofit = 933 \n",
      "Total commits in okhttp = 1716 \n"
     ]
    }
   ],
   "source": [
    "sample = projects.head(5)\n",
    "for index, row in sample.iterrows():\n",
    "    results = fetchContributitors(row['owner'], row['name'])\n",
    "    contributors = pd.DataFrame(results)\n",
    "    totalCommits = contributors[\"commits\"].sum()\n",
    "    print(\"Total commits in %s = %d \" % (row[\"name\"], totalCommits))\n",
    "    "
   ]
  },
  {
   "cell_type": "code",
   "execution_count": null,
   "metadata": {},
   "outputs": [],
   "source": []
  }
 ],
 "metadata": {
  "kernelspec": {
   "display_name": "Python 3",
   "language": "python",
   "name": "python3"
  },
  "language_info": {
   "codemirror_mode": {
    "name": "ipython",
    "version": 3
   },
   "file_extension": ".py",
   "mimetype": "text/x-python",
   "name": "python",
   "nbconvert_exporter": "python",
   "pygments_lexer": "ipython3",
   "version": "3.6.4"
  }
 },
 "nbformat": 4,
 "nbformat_minor": 2
}
