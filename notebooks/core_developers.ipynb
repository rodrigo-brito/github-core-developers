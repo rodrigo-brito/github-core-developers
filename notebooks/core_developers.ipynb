{
 "cells": [
  {
   "cell_type": "code",
   "execution_count": 1,
   "metadata": {
    "jupyter": {
     "source_hidden": true
    }
   },
   "outputs": [],
   "source": [
    "import pandas as pd\n",
    "import requests\n",
    "import operator\n",
    "import matplotlib.pyplot as plt\n",
    "from pathlib import Path\n",
    "import matplotlib.dates as mdates\n",
    "\n",
    "%matplotlib inline\n",
    "plt.style.use(\"ggplot\")"
   ]
  },
  {
   "cell_type": "code",
   "execution_count": 2,
   "metadata": {
    "jupyter": {
     "source_hidden": true
    }
   },
   "outputs": [],
   "source": [
    "# Base settings\n",
    "TOKEN = \"INSERT_YOUR_TOKEN_HERE\"\n",
    "LANGUAGES = [\"java\", \"ruby\", \"php\", \"javascript\", \"python\"]"
   ]
  },
  {
   "cell_type": "markdown",
   "metadata": {},
   "source": [
    "O código fonte utilizado está minimizado no bloco abaixo."
   ]
  },
  {
   "cell_type": "code",
   "execution_count": 3,
   "metadata": {
    "jupyter": {
     "source_hidden": true
    }
   },
   "outputs": [],
   "source": [
    "class Dataset:\n",
    "    def __init__(self, token=\"\", languages=[]):\n",
    "        self.token = token\n",
    "        self.languages = languages\n",
    "\n",
    "        \n",
    "    def graphql(self, data, variables={}):\n",
    "        results = requests.post(\"https://api.github.com/graphql\",  json={'query': data, 'variables': variables},\n",
    "                          headers={\"Authorization\": \"Bearer %s\" % self.token})\n",
    "        return results.json()\n",
    "\n",
    "\n",
    "    def fetchTopProjects(self, language_name, limit=50):\n",
    "        topProjectsQuery = \"\"\"\n",
    "        query TopProjects($search: String!) {\n",
    "          search(first: 100, query: $search, type: REPOSITORY) {\n",
    "            edges {\n",
    "              node {\n",
    "                ... on Repository {\n",
    "                  name\n",
    "                  createdAt\n",
    "                  description\n",
    "                  owner {\n",
    "                    login\n",
    "                  }\n",
    "                  stargazers {\n",
    "                    totalCount\n",
    "                  }\n",
    "                  defaultBranchRef {\n",
    "                    name\n",
    "                    target {\n",
    "                      ...on Commit {\n",
    "                        history(first: 0) {\n",
    "                          totalCount\n",
    "                        }\n",
    "                      }\n",
    "                    }\n",
    "                  }\n",
    "                }\n",
    "              }\n",
    "            }\n",
    "          }\n",
    "        }\n",
    "        \"\"\"\n",
    "\n",
    "        # If data is cached, return directly\n",
    "        cacheName = \"data/projects_%s.csv\" % language_name    \n",
    "        projects_file = Path(cacheName)\n",
    "        if projects_file.is_file():\n",
    "            data = pd.read_csv(cacheName)\n",
    "            if data.shape[0] > 0:\n",
    "                return data\n",
    "\n",
    "        results = self.graphql(topProjectsQuery, {\"search\": \"language:%s\" % language_name})\n",
    "        projects = results.get(\"data\").get(\"search\").get(\"edges\")\n",
    "\n",
    "        values = [{\n",
    "            \"language\": language_name,\n",
    "            \"name\": project.get(\"node\").get(\"name\"),\n",
    "            \"owner\": project.get(\"node\").get(\"owner\").get(\"login\"),\n",
    "            \"description\": project.get(\"node\").get(\"description\") or \"\",\n",
    "            \"createdAt\": project.get(\"node\").get(\"createdAt\"),\n",
    "            \"defaultBranch\": project.get(\"node\").get(\"defaultBranchRef\").get(\"name\"),\n",
    "            \"stars\": project.get(\"node\").get(\"stargazers\").get(\"totalCount\"),\n",
    "            \"commits\": project.get(\"node\").get(\"defaultBranchRef\").get(\"target\").get(\"history\").get(\"totalCount\")\n",
    "        } for project in projects]\n",
    "\n",
    "        dataFrame = pd.DataFrame(values, columns=[\"language\", \"name\",\"owner\", \"description\", \"createdAt\", \"defaultBranch\", \"stars\", \"commits\"])\n",
    "        dataFrame['stars'] = dataFrame['stars'].astype('int')\n",
    "        dataFrame['commits'] = dataFrame['commits'].astype('int')\n",
    "\n",
    "        # Removing invalid projects\n",
    "        dataFrame = dataFrame[~dataFrame['name'].str.contains(\"book|awesome|pattern|tutorial|codebase\")]\n",
    "        dataFrame = dataFrame[~dataFrame['description'].str.contains(\"book|awesome|pattern|tutorial|codebase\")]\n",
    "        dataFrame = dataFrame.head(limit)\n",
    "\n",
    "        # Save data in local cache\n",
    "        dataFrame.to_csv(cacheName, index=False)\n",
    "\n",
    "        return dataFrame\n",
    "\n",
    "\n",
    "    def fetchContributitors(self, owner, project_name):\n",
    "        # If data is cached, return directly\n",
    "        cacheName = \"data/top_contributors_%s_%s.csv\" % (owner, project_name)    \n",
    "        projects_file = Path(cacheName)\n",
    "        if projects_file.is_file():\n",
    "            data = pd.read_csv(cacheName)\n",
    "            if data.shape[0] > 0:\n",
    "                return data\n",
    "\n",
    "        results = requests.get(\"https://api.github.com/repos/%s/%s/contributors?anon=1\" % (owner, project_name),\n",
    "                               headers={\"Authorization\": \"token %s\" % self.token})\n",
    "\n",
    "        if results.status_code != requests.codes.ok:\n",
    "            print(\"fail to fetch contributors from %s/%s.\" % (owner, project_name))\n",
    "\n",
    "        values = [{\n",
    "            \"login\": result.get(\"login\") or result.get(\"email\") or result.get(\"name\"),\n",
    "            \"commits\": int(result.get(\"contributions\"))\n",
    "        } for result in results.json()]\n",
    "\n",
    "        dataFrame = pd.DataFrame(values, columns=[\"login\", \"commits\"])\n",
    "        dataFrame['commits'] = dataFrame['commits'].astype('int')\n",
    "        dataFrame.sort_values(by=[\"commits\"], ascending=False, inplace=True)\n",
    "\n",
    "        # Save data in local cache\n",
    "        dataFrame.to_csv(cacheName, index=False)\n",
    "\n",
    "        return dataFrame\n",
    "\n",
    "\n",
    "    def getCoreDeveloper(self, developers, commitsCount):\n",
    "        totalPercent = 0.0\n",
    "        coreDevelopers = []\n",
    "\n",
    "        # Sort developers by commits\n",
    "        developers = pd.DataFrame(developers).sort_values(by=[\"commits\"], ascending=False)\n",
    "\n",
    "        for _, developer in developers.iterrows():\n",
    "            percent = developer.get(\"commits\") / commitsCount\n",
    "            if totalPercent < 0.8 and percent > 0.05:\n",
    "                totalPercent += percent\n",
    "                coreDevelopers.append(developer)\n",
    "\n",
    "        return coreDevelopers\n",
    "    \n",
    "    def getProjects(self):\n",
    "        allProjects = pd.DataFrame(columns=[\"language\", \"name\", \"owner\", \"description\", \"createdAt\", \"defaultBranch\", \"stars\", \"commits\"])\n",
    "        allProjects['stars'] = allProjects['stars'].astype('int')\n",
    "        allProjects['commits'] = allProjects['commits'].astype('int')\n",
    "\n",
    "        for language in self.languages:\n",
    "            result = pd.DataFrame(dataset.fetchTopProjects(language))\n",
    "            allProjects = allProjects.append(result).drop_duplicates().reset_index(drop=True)\n",
    "        \n",
    "        return allProjects\n",
    "    \n",
    "    def getContributorsProjects(self, projects):\n",
    "        relationship = pd.DataFrame(columns=[\"project\", \"login\"])\n",
    "        \n",
    "        for _, project in projects.iterrows():\n",
    "            projectSlug = \"{0}/{1}\".format(project.get(\"owner\"),  project.get(\"name\"))\n",
    "            contributors = self.fetchContributitors(project.get(\"owner\"), project.get(\"name\"))\n",
    "            coreDevelopers = self.getCoreDeveloper(pd.DataFrame(contributors), project.get(\"commits\"))\n",
    "\n",
    "            for developer in coreDevelopers:\n",
    "                data = {\"project\": projectSlug, \"login\": developer.get(\"login\")}\n",
    "                relationship = relationship.append(data, ignore_index=True)\n",
    "                \n",
    "        return relationship"
   ]
  },
  {
   "cell_type": "markdown",
   "metadata": {},
   "source": [
    "# **Análise de Core Developers - Github**\n",
    "### **Manutenção e Evolução de Software - PPGCC - UFMG**\n",
    "Marco Túlio Oliveira Valente<br>\n",
    "Rodrigo Ferreira de Brito<br>\n",
    "<br>"
   ]
  },
  {
   "cell_type": "markdown",
   "metadata": {},
   "source": [
    "O presente trabalho consiste em identificar e analisar os *core developers* dos principais projetos presentes no GitHub das linguagens Java, Ruby, PHP, JavaScript e Python. *Core developers* são caracterizados como os principais mantenedores do projeto, que contribuem ativamente e são autores das maiores parcelas de código dos sistemas.\n",
    "\n",
    "Para cada usuário, foram contabilizados os commits efetuados no principal branch do projeto. Sendo definido como core contributor, aqueles que possuem autoria de mais de 5% do código e fazem parte dos grupo que detém 80% das maiores contribuições registradas no projeto <a href=\"#ref1\">[1]</a>.\n",
    "\n",
    "Para evitar a análise de repositórios que não possúem sistemas válidos, como livros, *awesome-lists* e repositórios com exemplos de implementação, foram desconsiderados os registros que possuem os termos: *book*, *pattern*, *tutorial*, *awesome* e *codebase* no nome ou em sua descrição. Mantendo um total de 50 projetos para cada linguagem analisada.\n",
    "\n",
    "A análise foi feita utilizando as biliotecas Pandas para gerência e busca em *Data Frames* e Matplotlib para representação visual por meio de gráficos. Os dados foram obtidos por meio da API do Github <a href=\"#ref2\">[2]</a> e filtrados por meio da linguagem Python.\n",
    "\n",
    "O gráfico abaixo mostra a distribuição de dos 250 projetos analisados, a base utilizada é bastante diversificada, contendo projetos uma média vinte mil estrelas e sete mil *commits*. No entando, existema alguns projetos que ultrapassam a marca cem mil *commits* e estrelas."
   ]
  },
  {
   "cell_type": "code",
   "execution_count": 4,
   "metadata": {
    "jupyter": {
     "source_hidden": true
    }
   },
   "outputs": [
    {
     "data": {
      "text/html": [
       "<div>\n",
       "<style scoped>\n",
       "    .dataframe tbody tr th:only-of-type {\n",
       "        vertical-align: middle;\n",
       "    }\n",
       "\n",
       "    .dataframe tbody tr th {\n",
       "        vertical-align: top;\n",
       "    }\n",
       "\n",
       "    .dataframe thead th {\n",
       "        text-align: right;\n",
       "    }\n",
       "</style>\n",
       "<table border=\"1\" class=\"dataframe\">\n",
       "  <thead>\n",
       "    <tr style=\"text-align: right;\">\n",
       "      <th></th>\n",
       "      <th>stars</th>\n",
       "      <th>commits</th>\n",
       "    </tr>\n",
       "  </thead>\n",
       "  <tbody>\n",
       "    <tr>\n",
       "      <th>count</th>\n",
       "      <td>250.000000</td>\n",
       "      <td>250.000000</td>\n",
       "    </tr>\n",
       "    <tr>\n",
       "      <th>mean</th>\n",
       "      <td>20378.364000</td>\n",
       "      <td>7672.532000</td>\n",
       "    </tr>\n",
       "    <tr>\n",
       "      <th>std</th>\n",
       "      <td>15713.275828</td>\n",
       "      <td>14218.909799</td>\n",
       "    </tr>\n",
       "    <tr>\n",
       "      <th>min</th>\n",
       "      <td>5814.000000</td>\n",
       "      <td>1.000000</td>\n",
       "    </tr>\n",
       "    <tr>\n",
       "      <th>25%</th>\n",
       "      <td>9809.750000</td>\n",
       "      <td>843.000000</td>\n",
       "    </tr>\n",
       "    <tr>\n",
       "      <th>50%</th>\n",
       "      <td>14462.500000</td>\n",
       "      <td>2207.500000</td>\n",
       "    </tr>\n",
       "    <tr>\n",
       "      <th>75%</th>\n",
       "      <td>28194.250000</td>\n",
       "      <td>7623.750000</td>\n",
       "    </tr>\n",
       "    <tr>\n",
       "      <th>max</th>\n",
       "      <td>111969.000000</td>\n",
       "      <td>102091.000000</td>\n",
       "    </tr>\n",
       "  </tbody>\n",
       "</table>\n",
       "</div>"
      ],
      "text/plain": [
       "               stars        commits\n",
       "count     250.000000     250.000000\n",
       "mean    20378.364000    7672.532000\n",
       "std     15713.275828   14218.909799\n",
       "min      5814.000000       1.000000\n",
       "25%      9809.750000     843.000000\n",
       "50%     14462.500000    2207.500000\n",
       "75%     28194.250000    7623.750000\n",
       "max    111969.000000  102091.000000"
      ]
     },
     "execution_count": 4,
     "metadata": {},
     "output_type": "execute_result"
    }
   ],
   "source": [
    "dataset = Dataset(token=TOKEN, languages=LANGUAGES)\n",
    "allProjects = dataset.getProjects()\n",
    "allProjects.describe()"
   ]
  },
  {
   "cell_type": "code",
   "execution_count": 5,
   "metadata": {
    "jupyter": {
     "source_hidden": true
    }
   },
   "outputs": [
    {
     "data": {
      "image/png": "[encoded data removed]",
      "text/plain": [
       "<Figure size 432x288 with 2 Axes>"
      ]
     },
     "metadata": {},
     "output_type": "display_data"
    }
   ],
   "source": [
    "fig, axes = plt.subplots(nrows=1, ncols=2)\n",
    "plt.subplots_adjust(wspace=0.5)\n",
    "allProjects[\"stars\"].plot.box(ax=axes[0])\n",
    "allProjects[\"commits\"].plot.box(ax=axes[1])\n",
    "plt.show()"
   ]
  },
  {
   "cell_type": "markdown",
   "metadata": {},
   "source": [
    "#### **1. Qual o tamanho do conjunto de core developers dos sistemas analisados? Qual o sistema que tem o maior número de core developers?**\n",
    "\n",
    "Os projetos com maior número de *core developers* são *SeleniumHQ/selenium, meteor/meteor e adobe/brackets*, contabilizando um total de 7 mantenedores cada. No total foram identifcados 697 *code developers*.\n"
   ]
  },
  {
   "cell_type": "code",
   "execution_count": 17,
   "metadata": {
    "jupyter": {
     "source_hidden": true
    }
   },
   "outputs": [
    {
     "name": "stdout",
     "output_type": "stream",
     "text": [
      "Total = 697 desenvolvedores\n"
     ]
    },
    {
     "data": {
      "text/html": [
       "<div>\n",
       "<style scoped>\n",
       "    .dataframe tbody tr th:only-of-type {\n",
       "        vertical-align: middle;\n",
       "    }\n",
       "\n",
       "    .dataframe tbody tr th {\n",
       "        vertical-align: top;\n",
       "    }\n",
       "\n",
       "    .dataframe thead th {\n",
       "        text-align: right;\n",
       "    }\n",
       "</style>\n",
       "<table border=\"1\" class=\"dataframe\">\n",
       "  <thead>\n",
       "    <tr style=\"text-align: right;\">\n",
       "      <th></th>\n",
       "      <th>Núm. Usuários</th>\n",
       "    </tr>\n",
       "    <tr>\n",
       "      <th>Projeto</th>\n",
       "      <th></th>\n",
       "    </tr>\n",
       "  </thead>\n",
       "  <tbody>\n",
       "    <tr>\n",
       "      <th>adobe/brackets</th>\n",
       "      <td>7</td>\n",
       "    </tr>\n",
       "    <tr>\n",
       "      <th>meteor/meteor</th>\n",
       "      <td>7</td>\n",
       "    </tr>\n",
       "    <tr>\n",
       "      <th>SeleniumHQ/selenium</th>\n",
       "      <td>7</td>\n",
       "    </tr>\n",
       "    <tr>\n",
       "      <th>discourse/discourse</th>\n",
       "      <td>6</td>\n",
       "    </tr>\n",
       "    <tr>\n",
       "      <th>keon/algorithms</th>\n",
       "      <td>6</td>\n",
       "    </tr>\n",
       "  </tbody>\n",
       "</table>\n",
       "</div>"
      ],
      "text/plain": [
       "                     Núm. Usuários\n",
       "Projeto                           \n",
       "adobe/brackets                   7\n",
       "meteor/meteor                    7\n",
       "SeleniumHQ/selenium              7\n",
       "discourse/discourse              6\n",
       "keon/algorithms                  6"
      ]
     },
     "execution_count": 17,
     "metadata": {},
     "output_type": "execute_result"
    }
   ],
   "source": [
    "developerProject = dataset.getContributorsProjects(allProjects)\n",
    "developersByProject = developerProject.groupby([\"project\"]).count().sort_values(by=[\"login\"], ascending=False)\n",
    "developersByProject = developersByProject.rename(columns={\"login\": \"Núm. Usuários\"})\n",
    "developersByProject.index.names = ['Projeto']\n",
    "print(\"Total = %d desenvolvedores\" % developersByProject.sum())\n",
    "developersByProject.head(5)"
   ]
  },
  {
   "cell_type": "markdown",
   "metadata": {},
   "source": [
    "No entanto, grande parte dos projetos possuem entre 2 e 4 desenvolvedores responsáveis pela gerência e manutenção. O Gráfico abaixo mostra a distribuição de core developers registrados."
   ]
  },
  {
   "cell_type": "code",
   "execution_count": 7,
   "metadata": {
    "jupyter": {
     "source_hidden": true
    }
   },
   "outputs": [
    {
     "data": {
      "image/png": "[encoded data removed]",
      "text/plain": [
       "<Figure size 432x288 with 1 Axes>"
      ]
     },
     "metadata": {},
     "output_type": "display_data"
    }
   ],
   "source": [
    "developersByProject.boxplot(showmeans=True)\n",
    "plt.show()"
   ]
  },
  {
   "cell_type": "markdown",
   "metadata": {},
   "source": [
    "Além disso, cerca de 55 projetos possuem apenas 1 *core developer* detentor de mais de 80% das contribuições registradas."
   ]
  },
  {
   "cell_type": "code",
   "execution_count": 8,
   "metadata": {
    "jupyter": {
     "source_hidden": true
    }
   },
   "outputs": [
    {
     "data": {
      "text/plain": [
       "Núm. Usuários    55\n",
       "dtype: int64"
      ]
     },
     "execution_count": 8,
     "metadata": {},
     "output_type": "execute_result"
    }
   ],
   "source": [
    "developersByProject[developersByProject[\"Núm. Usuários\"] == 1].count()"
   ]
  },
  {
   "cell_type": "markdown",
   "metadata": {},
   "source": [
    "#### **2. Existem core developers que são bots? Se sim, o que esses bots fazem?**"
   ]
  },
  {
   "cell_type": "code",
   "execution_count": 9,
   "metadata": {
    "jupyter": {
     "source_hidden": true
    }
   },
   "outputs": [
    {
     "data": {
      "text/html": [
       "<div>\n",
       "<style scoped>\n",
       "    .dataframe tbody tr th:only-of-type {\n",
       "        vertical-align: middle;\n",
       "    }\n",
       "\n",
       "    .dataframe tbody tr th {\n",
       "        vertical-align: top;\n",
       "    }\n",
       "\n",
       "    .dataframe thead th {\n",
       "        text-align: right;\n",
       "    }\n",
       "</style>\n",
       "<table border=\"1\" class=\"dataframe\">\n",
       "  <thead>\n",
       "    <tr style=\"text-align: right;\">\n",
       "      <th></th>\n",
       "      <th>project</th>\n",
       "      <th>login</th>\n",
       "    </tr>\n",
       "  </thead>\n",
       "  <tbody>\n",
       "    <tr>\n",
       "      <th>19</th>\n",
       "      <td>google/guava</td>\n",
       "      <td>guava.mirrorbot@gmail.com@8138a162-5c33-11de-8...</td>\n",
       "    </tr>\n",
       "    <tr>\n",
       "      <th>145</th>\n",
       "      <td>jekyll/jekyll</td>\n",
       "      <td>jekyllbot</td>\n",
       "    </tr>\n",
       "    <tr>\n",
       "      <th>173</th>\n",
       "      <td>ruby/ruby</td>\n",
       "      <td>matzbot</td>\n",
       "    </tr>\n",
       "    <tr>\n",
       "      <th>521</th>\n",
       "      <td>zeit/next.js</td>\n",
       "      <td>greenkeeper[bot]</td>\n",
       "    </tr>\n",
       "    <tr>\n",
       "      <th>625</th>\n",
       "      <td>Valloric/YouCompleteMe</td>\n",
       "      <td>zzbot</td>\n",
       "    </tr>\n",
       "    <tr>\n",
       "      <th>648</th>\n",
       "      <td>wangshub/wechat_jump_game</td>\n",
       "      <td>wangsong@lejurobot.com</td>\n",
       "    </tr>\n",
       "  </tbody>\n",
       "</table>\n",
       "</div>"
      ],
      "text/plain": [
       "                       project  \\\n",
       "19                google/guava   \n",
       "145              jekyll/jekyll   \n",
       "173                  ruby/ruby   \n",
       "521               zeit/next.js   \n",
       "625     Valloric/YouCompleteMe   \n",
       "648  wangshub/wechat_jump_game   \n",
       "\n",
       "                                                 login  \n",
       "19   guava.mirrorbot@gmail.com@8138a162-5c33-11de-8...  \n",
       "145                                          jekyllbot  \n",
       "173                                            matzbot  \n",
       "521                                   greenkeeper[bot]  \n",
       "625                                              zzbot  \n",
       "648                             wangsong@lejurobot.com  "
      ]
     },
     "execution_count": 9,
     "metadata": {},
     "output_type": "execute_result"
    }
   ],
   "source": [
    "developerProject[developerProject['login'].str.contains(\"bot\") & ~developerProject['project'].str.contains(\"greenrobot|thoughtbot\")]"
   ]
  },
  {
   "cell_type": "markdown",
   "metadata": {},
   "source": [
    "Através de uma busca com o termo \"bot\" na lista de usuários registrados, foi possível identificar alguns perfis de robôs atuando em repositórios analisados. Os *bots* geralmente são gerenciados por algum sistema de integração contínua e acionados por eventos específicos, como fechamentos de Pull Requests ou submissão de *releases* de aplicação."
   ]
  },
  {
   "cell_type": "markdown",
   "metadata": {},
   "source": [
    "No projeto google/guava, o robô identificado era responsável por sincronizar o repositório com outras fontes de contribuição, o robô é gerenciado por um projeto do Google chamado *Make Opensource Easy* (MOE), um robô específico para espelhamento de repositórios. Semelhante ao zzbot do projeto YouCompleteMe que é utilizado para integrar as novas contribuições no repositório. "
   ]
  },
  {
   "cell_type": "markdown",
   "metadata": {},
   "source": [
    "No projecto Jekyll, o robô é responsável por atualizar o arquivo de histórico de mudanças toda vez que um Pull Request é aceito. Já o Ruby utiliza o *matzbot* para incrementar uma constante que identifica a data do último *release* registrado."
   ]
  },
  {
   "cell_type": "markdown",
   "metadata": {},
   "source": [
    "O Projecto Next.js utilizava um bot chamado Greenkeeper, atualmente desativado no projeto. O robô era responsável por identificar dependências desatualizadas e sugerir novas atualizações."
   ]
  },
  {
   "cell_type": "markdown",
   "metadata": {},
   "source": [
    "#### **3. Como o tamanho deste conjunto varia por linguagem?**"
   ]
  },
  {
   "cell_type": "markdown",
   "metadata": {},
   "source": [
    "O gráfico abaixo apresenta a distribuição de *core developers* por linguagem analisada. Projetos Javascript, Python e Ruby possuem comportamentos semelhantes, obtendo um registro de 2 a 4 desenvolvedores na maioria dos projetos analisados. \n",
    "\n",
    "No entanto, projetos Java apresentaram uma distribuição mais ampla, variando entre 1 e 4 desenvolvedores, com alguns casos especiais que chegaram a registrar 7 *core developers*.\n",
    "\n",
    "Projetos PHP registraram uma variação dominante de 2 a 4 desenvolvedores, possuindo um caso especial que obteve a marca de 6 mantenedores."
   ]
  },
  {
   "cell_type": "code",
   "execution_count": 18,
   "metadata": {
    "jupyter": {
     "source_hidden": true
    }
   },
   "outputs": [
    {
     "data": {
      "image/png": "[encoded data removed]",
      "text/plain": [
       "<Figure size 1440x1080 with 6 Axes>"
      ]
     },
     "metadata": {},
     "output_type": "display_data"
    }
   ],
   "source": [
    "developersByProject = developersByProject.reset_index()\n",
    "allProjects[\"Projeto\"] = allProjects.apply(lambda row: \"%s/%s\"  % (row[\"owner\"], row[\"name\"]) ,axis=1)\n",
    "developersByLanguage = developersByProject.join(allProjects.set_index(\"Projeto\"), on=\"Projeto\")\n",
    "developersByLanguage[[\"Núm. Usuários\", \"language\"]].groupby(\"language\").boxplot(figsize=(20,15), showmeans=True)\n",
    "plt.show()"
   ]
  },
  {
   "cell_type": "markdown",
   "metadata": {},
   "source": [
    "#### **4. Como o tamanho deste conjunto varia por idade dos sistemas?**"
   ]
  },
  {
   "cell_type": "markdown",
   "metadata": {},
   "source": [
    "O número de mantenedores em função da idade dos projetos não apresentaram grandes diferenças. Segmentando todos os projetos em faixas de idades é possível notar que projetos de até 6 anos apresentam um comportamento aproximado, com um registro médio de 2,6 core developers por projeto. Já os sistemas mais antigos, com mais de 6 anos, registraram uma média próxima de 3 mantenedores por projeto."
   ]
  },
  {
   "cell_type": "code",
   "execution_count": 11,
   "metadata": {
    "jupyter": {
     "source_hidden": true
    }
   },
   "outputs": [
    {
     "data": {
      "image/png": "[encoded data removed]",
      "text/plain": [
       "<Figure size 720x360 with 1 Axes>"
      ]
     },
     "metadata": {},
     "output_type": "display_data"
    }
   ],
   "source": [
    "usersByTime = developersByLanguage[[\"createdAt\", \"Núm. Usuários\"]].sort_values(by=[\"createdAt\"], ascending=True)\n",
    "plot = {\n",
    "    \"Menos de 2 anos\": usersByTime[usersByTime[\"createdAt\"] > \"2016-01-01\"][\"Núm. Usuários\"].mean(),\n",
    "    \"2 a 4 anos\": usersByTime[(usersByTime[\"createdAt\"] < \"2016-01-01\") & (usersByTime[\"createdAt\"] > \"2014-01-01\")][\"Núm. Usuários\"].mean(),\n",
    "    \"4 a 6 anos\": usersByTime[(usersByTime[\"createdAt\"] <= \"2014-01-01\") & (usersByTime[\"createdAt\"] > \"2012-01-01\")][\"Núm. Usuários\"].mean(),\n",
    "    \"Mais de 6 anos\": usersByTime[usersByTime[\"createdAt\"] <= \"2012-01-01\"][\"Núm. Usuários\"].mean()\n",
    "}\n",
    "ax = pd.DataFrame(plot,index=[0]).plot.bar(figsize=(10,5))\n",
    "ax.set_ylabel(\"Méida de core developers\")\n",
    "ax.xaxis.set_ticks_position('none')\n",
    "plt.show()"
   ]
  },
  {
   "cell_type": "markdown",
   "metadata": {},
   "source": [
    "#### **5. De quantos projetos os desenvolvedores analisados são core developers?**"
   ]
  },
  {
   "cell_type": "markdown",
   "metadata": {},
   "source": [
    "O gráfico abaixo apresenta a comparação entre os desenvolvedores que são contribuidores principais em apenas 1 projeto e aqueles que foram identificados como mantenedores em mais de um projeto.\n",
    "\n",
    "É possível notar que mais de 94% dos desenvolvedores são mantenedores de apenas um único projeto. Enquanto um pequena minoria, apenas 6%, divide o tempo de dedicação em projetos paralelos."
   ]
  },
  {
   "cell_type": "code",
   "execution_count": 12,
   "metadata": {
    "jupyter": {
     "source_hidden": true
    }
   },
   "outputs": [
    {
     "name": "stdout",
     "output_type": "stream",
     "text": [
      "Apenas 1 repositório 94.1%\n"
     ]
    },
    {
     "data": {
      "image/png": "[encoded data removed]",
      "text/plain": [
       "<Figure size 432x288 with 1 Axes>"
      ]
     },
     "metadata": {},
     "output_type": "display_data"
    }
   ],
   "source": [
    "userByProject = developerProject.groupby([\"login\"]).count().sort_values(by=[\"project\"], ascending=False)\n",
    "totalProjects = userByProject.count()\n",
    "plot = {\n",
    "    \"1 Repositório\": userByProject[userByProject[\"project\"] == 1].count() / totalProjects,\n",
    "    \"Mais de 1 Repositório\": userByProject[userByProject[\"project\"] > 1].count() / totalProjects\n",
    "}\n",
    "print(\"Apenas 1 repositório %.1f%%\" % (plot.get(\"1 Repositório\") * 100))\n",
    "ax = pd.DataFrame(plot).plot.bar()\n",
    "ax.set_ylabel(\"Porcentagem de mantenedores\")\n",
    "vals = ax.get_yticks()\n",
    "ax.set_yticklabels(['{:,.0%}'.format(x) for x in vals])\n",
    "plt.xticks([])\n",
    "plt.show()"
   ]
  },
  {
   "cell_type": "markdown",
   "metadata": {},
   "source": [
    "Alguns casos especiais, como o do desenvolvedor Jake Wharton que é *core developer* em 6 projetos analisados, sendo que grande parte é da mesma organização, Square. Square que detém grandes projetos Android, tais como Retrofit, Picasso e OkHTTP, onde Jake é um dos principais desenvolvedores."
   ]
  },
  {
   "cell_type": "code",
   "execution_count": 13,
   "metadata": {
    "collapsed": true,
    "jupyter": {
     "outputs_hidden": true
    }
   },
   "outputs": [
    {
     "data": {
      "text/html": [
       "<div>\n",
       "<style scoped>\n",
       "    .dataframe tbody tr th:only-of-type {\n",
       "        vertical-align: middle;\n",
       "    }\n",
       "\n",
       "    .dataframe tbody tr th {\n",
       "        vertical-align: top;\n",
       "    }\n",
       "\n",
       "    .dataframe thead th {\n",
       "        text-align: right;\n",
       "    }\n",
       "</style>\n",
       "<table border=\"1\" class=\"dataframe\">\n",
       "  <thead>\n",
       "    <tr style=\"text-align: right;\">\n",
       "      <th></th>\n",
       "      <th>project</th>\n",
       "    </tr>\n",
       "    <tr>\n",
       "      <th>login</th>\n",
       "      <th></th>\n",
       "    </tr>\n",
       "  </thead>\n",
       "  <tbody>\n",
       "    <tr>\n",
       "      <th>JakeWharton</th>\n",
       "      <td>6</td>\n",
       "    </tr>\n",
       "    <tr>\n",
       "      <th>fabpot</th>\n",
       "      <td>4</td>\n",
       "    </tr>\n",
       "    <tr>\n",
       "      <th>benjchristensen</th>\n",
       "      <td>3</td>\n",
       "    </tr>\n",
       "    <tr>\n",
       "      <th>GrahamCampbell</th>\n",
       "      <td>3</td>\n",
       "    </tr>\n",
       "    <tr>\n",
       "      <th>swankjesse</th>\n",
       "      <td>3</td>\n",
       "    </tr>\n",
       "  </tbody>\n",
       "</table>\n",
       "</div>"
      ],
      "text/plain": [
       "                 project\n",
       "login                   \n",
       "JakeWharton            6\n",
       "fabpot                 4\n",
       "benjchristensen        3\n",
       "GrahamCampbell         3\n",
       "swankjesse             3"
      ]
     },
     "execution_count": 13,
     "metadata": {},
     "output_type": "execute_result"
    }
   ],
   "source": [
    "userByProject.head(5)"
   ]
  },
  {
   "cell_type": "markdown",
   "metadata": {},
   "source": [
    "#### **6. Como o tamanho deste conjunto varia com o número de commits de um sistema?**\n"
   ]
  },
  {
   "cell_type": "markdown",
   "metadata": {},
   "source": [
    "O gráfico abaixo apresenta uma simples comparação entre projetos com apenas 1 mantenedor e os demais. É possível notar que projetos com mais de um mantenedor tendem a ter mais commits. Onde os projetos com apenas 1 desenvolvedor obtiveram média abaixo de 2000 commits por projeto, enquanto os demais apresentaram média maior que 8000 commits. "
   ]
  },
  {
   "cell_type": "code",
   "execution_count": 14,
   "metadata": {
    "jupyter": {
     "source_hidden": true
    }
   },
   "outputs": [
    {
     "data": {
      "image/png": "[encoded data removed]",
      "text/plain": [
       "<Figure size 576x360 with 1 Axes>"
      ]
     },
     "metadata": {},
     "output_type": "display_data"
    }
   ],
   "source": [
    "result = developersByLanguage[[\"commits\", \"Núm. Usuários\"]]\n",
    "plot = {\n",
    "    \"1 Desenvolvedor\": result[result[\"Núm. Usuários\"] == 1][\"commits\"].mean(),\n",
    "    \"Mais de 1 Desenvolvedor\": result[result[\"Núm. Usuários\"] > 1][\"commits\"].mean()\n",
    "}\n",
    "ax = pd.DataFrame(plot,index=[0]).plot.bar(figsize=(8,5))\n",
    "ax.set_ylabel(\"Número de commits\")\n",
    "ax.set_xlabel(\"Categoria\")\n",
    "ax.xaxis.set_ticks_position('none')\n",
    "plt.xticks([])\n",
    "plt.show()"
   ]
  },
  {
   "cell_type": "markdown",
   "metadata": {},
   "source": [
    "### **Ameaças à validação**"
   ]
  },
  {
   "cell_type": "markdown",
   "metadata": {},
   "source": [
    "A presente seção apresenta possíveis fatores que podem influenciar nos resultados do trabalho. Apesar da coleta de dados ser próxima da análise, novos desenvolvedores podem entrar na categoria de mantenedores e alterar parcialmente os resultados reportados, assim como novos projetos entrarem no *rank* de busca do Github."
   ]
  },
  {
   "cell_type": "markdown",
   "metadata": {},
   "source": [
    "A lista dos principais projetos incluem sistemas descontinuados que não recebem mais contribuições ou estão no fim de sua vida últil, podendo impactar análises temporais, uma vez que o tempo de vida foi estagnado."
   ]
  },
  {
   "cell_type": "markdown",
   "metadata": {},
   "source": [
    "Os desenvolvedores foram identificados pelo login do Github, porém um mesmo desenvolvedor pode utilizar diferentes credenciais e até mesmo submeter contribuições de forma anônima utilizando diferentes emails. O Github valida o usuário na submissão via Pull Request, porém o histórico enviado diretamente pelo mantenedor pode utilizar email de outras pessoas, gerando falsas contabilizações de contribuição. Um exemplo pode ser visto abaixo, onde o mantenedor possuí diferentes emails e todas as contribuições foram feitas de forma anônima para [DrKLO/Telegram](https://github.com/DrKLO/Telegram/graphs/contributors)."
   ]
  },
  {
   "cell_type": "code",
   "execution_count": 15,
   "metadata": {
    "jupyter": {
     "source_hidden": true
    }
   },
   "outputs": [
    {
     "data": {
      "text/html": [
       "<div>\n",
       "<style scoped>\n",
       "    .dataframe tbody tr th:only-of-type {\n",
       "        vertical-align: middle;\n",
       "    }\n",
       "\n",
       "    .dataframe tbody tr th {\n",
       "        vertical-align: top;\n",
       "    }\n",
       "\n",
       "    .dataframe thead th {\n",
       "        text-align: right;\n",
       "    }\n",
       "</style>\n",
       "<table border=\"1\" class=\"dataframe\">\n",
       "  <thead>\n",
       "    <tr style=\"text-align: right;\">\n",
       "      <th></th>\n",
       "      <th>login</th>\n",
       "      <th>commits</th>\n",
       "    </tr>\n",
       "  </thead>\n",
       "  <tbody>\n",
       "    <tr>\n",
       "      <th>0</th>\n",
       "      <td>drklo.2kb@gmail.com</td>\n",
       "      <td>294</td>\n",
       "    </tr>\n",
       "    <tr>\n",
       "      <th>1</th>\n",
       "      <td>drklo@imac-nikolay.local</td>\n",
       "      <td>6</td>\n",
       "    </tr>\n",
       "    <tr>\n",
       "      <th>2</th>\n",
       "      <td>jsonchi</td>\n",
       "      <td>2</td>\n",
       "    </tr>\n",
       "    <tr>\n",
       "      <th>3</th>\n",
       "      <td>astarcev@workle.ru</td>\n",
       "      <td>1</td>\n",
       "    </tr>\n",
       "    <tr>\n",
       "      <th>4</th>\n",
       "      <td>zhukov</td>\n",
       "      <td>1</td>\n",
       "    </tr>\n",
       "  </tbody>\n",
       "</table>\n",
       "</div>"
      ],
      "text/plain": [
       "                      login  commits\n",
       "0       drklo.2kb@gmail.com      294\n",
       "1  drklo@imac-nikolay.local        6\n",
       "2                   jsonchi        2\n",
       "3        astarcev@workle.ru        1\n",
       "4                    zhukov        1"
      ]
     },
     "execution_count": 15,
     "metadata": {},
     "output_type": "execute_result"
    }
   ],
   "source": [
    "dataset.fetchContributitors(owner=\"DrKLO\", project_name=\"Telegram\").head()"
   ]
  },
  {
   "cell_type": "markdown",
   "metadata": {},
   "source": [
    "### **Conclusões**"
   ]
  },
  {
   "cell_type": "markdown",
   "metadata": {},
   "source": [
    "O presente trabalho objetivou analisar os principais projetos do Github, buscando identificar os *core developers* e suas principais características em projetos Open Source. Diante disso, foram coletados dados de 250 projetos de 5 linguagens de programação.\n",
    "\n",
    "As análises mostraram que grande parte dos projetos são mantidos por poucos desenvolvedores, em grande parte dos casos por um único mantenedor, principalmente em projetos PHP. Também foi reportado que projetos com apenas 1 *core developer*, a média de commits é significamente menor.\n",
    "\n",
    "Também foram identificados alguns casos de desenvolvedores mantenedores em múltiplos projetos, chegando a marca de 6 projetos simultâneos em um dos casos analisados. No entanto mais de 94% dos desenvolvedores são responsáveis por um único projeto."
   ]
  },
  {
   "cell_type": "markdown",
   "metadata": {},
   "source": [
    "### **Referências**"
   ]
  },
  {
   "cell_type": "markdown",
   "metadata": {},
   "source": [
    "<span id=\"ref1\">[1]</span> **Jailton Coelho, Marco Tulio Valente, Luciana L. Silva, Andre Hora.** Why We Engage in FLOSS: Answers from Core Developers. In 11th International Workshop on Cooperative and Human Aspects of Software Engineering (CHASE), páginas 14-21, 2018."
   ]
  },
  {
   "cell_type": "markdown",
   "metadata": {},
   "source": [
    "<span id=\"ref2\">[2]</span> **Github**. GraphQL API V4. 20 Agosto 2018. Disponível em: https://developer.github.com/v4."
   ]
  }
 ],
 "metadata": {
  "kernelspec": {
   "display_name": "Python 3",
   "language": "python",
   "name": "python3"
  },
  "language_info": {
   "codemirror_mode": {
    "name": "ipython",
    "version": 3
   },
   "file_extension": ".py",
   "mimetype": "text/x-python",
   "name": "python",
   "nbconvert_exporter": "python",
   "pygments_lexer": "ipython3",
   "version": "3.6.4"
  }
 },
 "nbformat": 4,
 "nbformat_minor": 2
}
